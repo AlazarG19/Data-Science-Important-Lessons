{
 "cells": [
  {
   "attachments": {},
   "cell_type": "markdown",
   "metadata": {},
   "source": [
    "<div align=\"center\" style=\" font-size: 80%; text-align: center; margin: 0 auto\">\n",
    "<img src=\"https://raw.githubusercontent.com/Explore-AI/Pictures/master/Python-Notebook-Banners/Examples.png\"  style=\"display: block; margin-left: auto; margin-right: auto;\";/>\n",
    "</div>"
   ]
  },
  {
   "attachments": {},
   "cell_type": "markdown",
   "metadata": {},
   "source": [
    "# Examples: Multiple linear regression: Fitting a model in sklearn\n",
    "\n",
    "© ExploreAI Academy"
   ]
  },
  {
   "attachments": {},
   "cell_type": "markdown",
   "metadata": {},
   "source": [
    "In this notebook, we delve into the intricacies of multiple linear regression, building upon the foundational understanding of simple linear regression. We explore how to fit a model using sklearn, taking into account multiple predictor variables to predict a response variable. Additionally, we introduce the mtcars dataset, a classic dataset in statistics, to illustrate the concepts in a practical context. \n",
    "\n",
    "## Learning Objectives\n",
    "\n",
    "By the end of this video, you should be able to:\n",
    "\n",
    "* Understand the principles of multiple linear regression and its extension from simple linear regression.\n",
    "* Load and preprocess data for multiple linear regression analysis.\n",
    "* Fit a multiple linear regression model using sklearn.\n",
    "* Interpret the coefficients of the fitted model to understand their influence on the response variable.\n",
    "* Evaluate model accuracy using mean squared error (MSE) and root mean squared error (RMSE).\n"
   ]
  },
  {
   "attachments": {},
   "cell_type": "markdown",
   "metadata": {},
   "source": [
    "It looks as if some of the predictors have been somewhat correctly modelled by the regression. Others, like `disp` in the top-right, are nowhere near."
   ]
  },
  {
   "attachments": {},
   "cell_type": "markdown",
   "metadata": {},
   "source": [
    "#  \n",
    "\n",
    "<div align=\"center\" style=\" font-size: 80%; text-align: center; margin: 0 auto\">\n",
    "<img src=\"https://raw.githubusercontent.com/Explore-AI/Pictures/master/ExploreAI_logos/EAI_Blue_Dark.png\"  style=\"width:200px\";/>\n",
    "</div>"
   ]
  }
 ],
 "metadata": {
  "kernelspec": {
   "display_name": "Python 3",
   "language": "python",
   "name": "python3"
  },
  "language_info": {
   "codemirror_mode": {
    "name": "ipython",
    "version": 3
   },
   "file_extension": ".py",
   "mimetype": "text/x-python",
   "name": "python",
   "nbconvert_exporter": "python",
   "pygments_lexer": "ipython3",
   "version": "3.11.4"
  }
 },
 "nbformat": 4,
 "nbformat_minor": 4
}
